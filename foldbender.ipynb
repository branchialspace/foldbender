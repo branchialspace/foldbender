{
  "nbformat": 4,
  "nbformat_minor": 0,
  "metadata": {
    "colab": {
      "provenance": [],
      "authorship_tag": "ABX9TyOfIMUbHlSGqCGlPvPm4rnF",
      "include_colab_link": true
    },
    "kernelspec": {
      "name": "python3",
      "display_name": "Python 3"
    },
    "language_info": {
      "name": "python"
    }
  },
  "cells": [
    {
      "cell_type": "markdown",
      "metadata": {
        "id": "view-in-github",
        "colab_type": "text"
      },
      "source": [
        "<a href=\"https://colab.research.google.com/github/branchialspace/foldbender/blob/main/foldbender.ipynb\" target=\"_parent\"><img src=\"https://colab.research.google.com/assets/colab-badge.svg\" alt=\"Open In Colab\"/></a>"
      ]
    },
    {
      "cell_type": "code",
      "execution_count": 2,
      "metadata": {
        "id": "s4YfDa6CmFFn"
      },
      "outputs": [],
      "source": [
        "# foldbender\n",
        "# !pip install pyg-lib torch_scatter torch_sparse torch_cluster torch_spline_conv -f https://data.pyg.org/whl/torch-2.1.0+cu121.html > /dev/null 2>&1\n",
        "!pip install pyg_lib torch_scatter torch_sparse torch_cluster torch_spline_conv -f https://data.pyg.org/whl/torch-2.1.0+cpu.html > /dev/null 2>&1\n",
        "!pip install torch-geometric > /dev/null 2>&1\n",
        "!pip install rdkit > /dev/null 2>&1\n",
        "!pip install Bio > /dev/null 2>&1\n",
        "!echo 'debconf debconf/frontend select Noninteractive' | sudo debconf-set-selections > /dev/null 2>&1 && sudo apt-get install -y dssp > /dev/null 2>&1\n",
        "!pip install ase > /dev/null 2>&1\n",
        "!pip install dscribe > /dev/null 2>&1\n",
        "!pip install iterative-stratification > /dev/null 2>&1\n",
        "!git clone https://github.com/branchialspace/foldbender.git > /dev/null 2>&1"
      ]
    },
    {
      "cell_type": "code",
      "source": [
        "import foldbender as fb"
      ],
      "metadata": {
        "id": "pdFyo6UsmNqO"
      },
      "execution_count": 4,
      "outputs": []
    },
    {
      "cell_type": "code",
      "source": [
        "# fb.fasta_alpha(input_fasta=\".fasta\", input_dir=\"\")\n",
        "\n",
        "# fb.alpha_nx(input_dir=\"\", output_dir=\"\")\n",
        "\n",
        "# fb.nx_pyg(input_dir=\"\", output_dir=\"\")\n",
        "\n",
        "# fb.minmax_norm(input_dir=\"\")\n",
        "\n",
        "# fb.soap_local(input_dir=\"\", r_cut=3, n_max=3, l_max=3, sigma=0.1)\n",
        "\n",
        "# fb.precompute_eigens(input_dir=\"\", max_freqs=16) # uses gpu\n",
        "\n",
        "# fb.go_labels(input_dir=\"\", train_terms=\".tsv\")\n",
        "\n",
        "# fb.GO_split(input_dir=\"\")\n",
        "\n",
        "# fb.esm2_labels(embeddings_path=\".npy\", sequence_ids_path= \".npy\", input_dir= \"\")\n",
        "\n",
        "# fb.foldseek_targets(file_clusters=\".tsv\", file_scores=\".tsv\")\n",
        "\n",
        "# fb.foldseek_regression_labels(input_dir=\"\", foldseek_targets=\".tsv\")\n",
        "\n",
        "# fb.foldseek_multiclass_labels(input_dir=\"\", foldseek_targets=\".tsv\")\n",
        "\n",
        "# fb.foldseek_split(input_dir=\"\")"
      ],
      "metadata": {
        "id": "pbS8e4KCmWxw"
      },
      "execution_count": null,
      "outputs": []
    },
    {
      "cell_type": "code",
      "source": [
        "# Processed CAFA 5 training data with Gene Ontology Annotation Multilabel targets\n",
        "!gdown 1-BpuMqiUwS-KOR82GRuqlaLiRNgKCv24 # https://drive.google.com/file/d/1-BpuMqiUwS-KOR82GRuqlaLiRNgKCv24/view?usp=sharing\n",
        "!unzip 41k_go_f16.zip -d ./41k_prot_go/ > /dev/null 2>&1"
      ],
      "metadata": {
        "id": "J0XUo1OROGgK"
      },
      "execution_count": null,
      "outputs": []
    },
    {
      "cell_type": "code",
      "source": [
        "# foldformer (gpu runtime only)\n",
        "!pip install pyg-lib torch_scatter torch_sparse torch_cluster torch_spline_conv -f https://data.pyg.org/whl/torch-2.1.0+cu121.html > /dev/null 2>&1\n",
        "!pip install torch-geometric > /dev/null 2>&1\n",
        "!git clone https://github.com/branchialspace/foldformer.git > /dev/null 2>&1\n",
        "!pip install pytorch-lightning > /dev/null 2>&1\n",
        "!pip install tensorboardX > /dev/null 2>&1\n",
        "!pip install yacs > /dev/null 2>&1\n",
        "!pip install ogb > /dev/null 2>&1\n",
        "!pip install performer-pytorch > /dev/null 2>&1\n",
        "!pip install rdkit > /dev/null 2>&1\n",
        "!pip install wandb > /dev/null 2>&1"
      ],
      "metadata": {
        "id": "cr93g0BjcJHI"
      },
      "execution_count": null,
      "outputs": []
    },
    {
      "cell_type": "code",
      "source": [
        "import torch\n",
        "device = torch.device(\"cuda\")\n",
        "\n",
        "!python ProteinExphormer/main.py --cfg ProteinExphormer/configs/Exphormer/alpha_GO.yaml wandb.use False"
      ],
      "metadata": {
        "id": "zPxl4_NgcVhb"
      },
      "execution_count": null,
      "outputs": []
    }
  ]
}