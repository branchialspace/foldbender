{
  "nbformat": 4,
  "nbformat_minor": 0,
  "metadata": {
    "colab": {
      "provenance": []
    },
    "kernelspec": {
      "name": "python3",
      "display_name": "Python 3"
    },
    "language_info": {
      "name": "python"
    }
  },
  "cells": [
    {
      "cell_type": "code",
      "execution_count": null,
      "metadata": {
        "id": "ur3zHGrSOshF"
      },
      "outputs": [],
      "source": [
        "# Create Gene Ontology embeddings by somehow forcing colab to run old versions of python, anaconda and tensorflow\n",
        "!wget https://repo.anaconda.com/miniconda/Miniconda3-py37_4.11.0-Linux-x86_64.sh\n",
        "!chmod +x Miniconda3-py37_4.11.0-Linux-x86_64.sh\n",
        "!./Miniconda3-py37_4.11.0-Linux-x86_64.sh -b -f -p /usr/local\n",
        "\n",
        "import sys\n",
        "sys.path.append('/usr/local/lib/python3.7/site-packages/')\n",
        "\n",
        "!conda update -n base -c defaults conda -y\n",
        "!conda create -n anc2vec python=3.7 -y"
      ]
    },
    {
      "cell_type": "code",
      "source": [
        "%%writefile anc2vec_builder.py\n",
        "import anc2vec\n",
        "import anc2vec.train as builder\n",
        "import json\n",
        "\n",
        "go_basic = \"/content/drive/MyDrive/cafa-5-protein-function-prediction/Train/go-basic.obo\"\n",
        "\n",
        "go_embeddings = builder.fit(go_basic, embedding_sz=200, batch_sz=64, num_epochs=100)\n",
        "\n",
        "with open(\"/content/go_embeddings.json\", \"w\") as file:\n",
        "    json.dump({k: v.tolist() for k, v in go_embeddings.items()}, file, indent=4)"
      ],
      "metadata": {
        "id": "znal-dINO0tA"
      },
      "execution_count": null,
      "outputs": []
    },
    {
      "cell_type": "code",
      "source": [
        "%%bash\n",
        "source /usr/local/etc/profile.d/conda.sh\n",
        "conda activate anc2vec\n",
        "pip install https://files.pythonhosted.org/packages/96/4a/9c778f0648bc6bfc09d1deac6420085f71a1e12cc6230fc4fcf8b760c8a5/tensorflow-2.4.4-cp37-cp37m-manylinux2010_x86_64.whl\n",
        "pip install -U \"anc2vec @ git+https://github.com/aedera/anc2vec.git\"\n",
        "\n",
        "python anc2vec_builder.py > /dev/null 2>&1\n",
        "conda deactivate"
      ],
      "metadata": {
        "id": "9tMVPBg3O8Sp"
      },
      "execution_count": null,
      "outputs": []
    }
  ]
}
